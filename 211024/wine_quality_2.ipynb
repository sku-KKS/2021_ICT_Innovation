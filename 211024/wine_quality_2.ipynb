{
  "nbformat": 4,
  "nbformat_minor": 0,
  "metadata": {
    "colab": {
      "name": "211024_wine_quality_2",
      "provenance": [],
      "collapsed_sections": [],
      "authorship_tag": "ABX9TyON32L5MZold06/XUdEuO2y",
      "include_colab_link": true
    },
    "kernelspec": {
      "name": "python3",
      "display_name": "Python 3"
    },
    "language_info": {
      "name": "python"
    }
  },
  "cells": [
    {
      "cell_type": "markdown",
      "metadata": {
        "id": "view-in-github",
        "colab_type": "text"
      },
      "source": [
        "<a href=\"https://colab.research.google.com/github/sku-KKS/2021_ICT_Innovation/blob/main/211024/wine_quality_2.ipynb\" target=\"_parent\"><img src=\"https://colab.research.google.com/assets/colab-badge.svg\" alt=\"Open In Colab\"/></a>"
      ]
    },
    {
      "cell_type": "code",
      "metadata": {
        "id": "SUOAx9sFEKWf"
      },
      "source": [
        "import matplotlib\n",
        "import pandas as pd\n",
        "from matplotlib import pyplot as plt\n",
        "import seaborn as sns\n",
        "from google.colab import drive\n",
        "import numpy as np"
      ],
      "execution_count": 1,
      "outputs": []
    },
    {
      "cell_type": "code",
      "metadata": {
        "colab": {
          "base_uri": "https://localhost:8080/"
        },
        "id": "4To0bWR9E64i",
        "outputId": "7c0f522c-49f5-4060-cbb1-c0184e5cf1f6"
      },
      "source": [
        "drive.mount('/content/ex5')"
      ],
      "execution_count": 2,
      "outputs": [
        {
          "output_type": "stream",
          "name": "stdout",
          "text": [
            "Drive already mounted at /content/ex5; to attempt to forcibly remount, call drive.mount(\"/content/ex5\", force_remount=True).\n"
          ]
        }
      ]
    },
    {
      "cell_type": "code",
      "metadata": {
        "id": "GQrqApSRElxE"
      },
      "source": [
        "r_df = pd.read_csv('/content/ex5/MyDrive/winequality-red.csv' ,sep = ';')\n",
        "w_df = pd.read_csv('/content/ex5/MyDrive/winequality-white.csv', sep = ';')"
      ],
      "execution_count": 3,
      "outputs": []
    },
    {
      "cell_type": "code",
      "metadata": {
        "id": "-yOuGmEcNdUA"
      },
      "source": [
        "from sklearn.preprocessing import StandardScaler\n",
        "\n",
        "std_cols = ['fixed acidity', 'volatile acidity',\t'citric acid',\t'residual sugar',\t'chlorides',\t'free sulfur dioxide',\t'total sulfur dioxide',\t'density',\t'pH',\t'sulphates',\t'alcohol'\t,'quality']\n",
        "\n",
        "scaler = StandardScaler()\n",
        "\n",
        "r_df_scaled = scaler.fit_transform(r_df[std_cols])\n",
        "r_df_scaled = pd.DataFrame(r_df_scaled, columns = std_cols)\n",
        "w_df_scaled = scaler.fit_transform(w_df[std_cols])\n",
        "w_df_scaled = pd.DataFrame(w_df_scaled, columns = std_cols)"
      ],
      "execution_count": 4,
      "outputs": []
    },
    {
      "cell_type": "code",
      "metadata": {
        "id": "yaZGB4ELTdp4"
      },
      "source": [
        "r_df['color'] = 'red'\n",
        "w_df['color'] = 'white'"
      ],
      "execution_count": 5,
      "outputs": []
    },
    {
      "cell_type": "code",
      "metadata": {
        "id": "TQuFhuDiT64s",
        "colab": {
          "base_uri": "https://localhost:8080/"
        },
        "outputId": "1e31cc98-f5ed-40d7-9cc7-23df5964e8e5"
      },
      "source": [
        "df = pd.concat([r_df, w_df], axis=0)\n",
        "print(df.shape)"
      ],
      "execution_count": 6,
      "outputs": [
        {
          "output_type": "stream",
          "name": "stdout",
          "text": [
            "(6497, 13)\n"
          ]
        }
      ]
    },
    {
      "cell_type": "code",
      "metadata": {
        "colab": {
          "base_uri": "https://localhost:8080/",
          "height": 393
        },
        "id": "nvIGOvey8K9D",
        "outputId": "3e9a9ed7-5a63-4e7e-fe00-150c4d3e2720"
      },
      "source": [
        "#shuffle\n",
        "df = df.sample(frac=1).reset_index(drop=True)\n",
        "df.head(10)"
      ],
      "execution_count": 7,
      "outputs": [
        {
          "output_type": "execute_result",
          "data": {
            "text/html": [
              "<div>\n",
              "<style scoped>\n",
              "    .dataframe tbody tr th:only-of-type {\n",
              "        vertical-align: middle;\n",
              "    }\n",
              "\n",
              "    .dataframe tbody tr th {\n",
              "        vertical-align: top;\n",
              "    }\n",
              "\n",
              "    .dataframe thead th {\n",
              "        text-align: right;\n",
              "    }\n",
              "</style>\n",
              "<table border=\"1\" class=\"dataframe\">\n",
              "  <thead>\n",
              "    <tr style=\"text-align: right;\">\n",
              "      <th></th>\n",
              "      <th>fixed acidity</th>\n",
              "      <th>volatile acidity</th>\n",
              "      <th>citric acid</th>\n",
              "      <th>residual sugar</th>\n",
              "      <th>chlorides</th>\n",
              "      <th>free sulfur dioxide</th>\n",
              "      <th>total sulfur dioxide</th>\n",
              "      <th>density</th>\n",
              "      <th>pH</th>\n",
              "      <th>sulphates</th>\n",
              "      <th>alcohol</th>\n",
              "      <th>quality</th>\n",
              "      <th>color</th>\n",
              "    </tr>\n",
              "  </thead>\n",
              "  <tbody>\n",
              "    <tr>\n",
              "      <th>0</th>\n",
              "      <td>6.7</td>\n",
              "      <td>0.540</td>\n",
              "      <td>0.28</td>\n",
              "      <td>5.4</td>\n",
              "      <td>0.060</td>\n",
              "      <td>21.0</td>\n",
              "      <td>105.0</td>\n",
              "      <td>0.99490</td>\n",
              "      <td>3.27</td>\n",
              "      <td>0.37</td>\n",
              "      <td>9.0</td>\n",
              "      <td>5</td>\n",
              "      <td>white</td>\n",
              "    </tr>\n",
              "    <tr>\n",
              "      <th>1</th>\n",
              "      <td>15.5</td>\n",
              "      <td>0.645</td>\n",
              "      <td>0.49</td>\n",
              "      <td>4.2</td>\n",
              "      <td>0.095</td>\n",
              "      <td>10.0</td>\n",
              "      <td>23.0</td>\n",
              "      <td>1.00315</td>\n",
              "      <td>2.92</td>\n",
              "      <td>0.74</td>\n",
              "      <td>11.1</td>\n",
              "      <td>5</td>\n",
              "      <td>red</td>\n",
              "    </tr>\n",
              "    <tr>\n",
              "      <th>2</th>\n",
              "      <td>7.1</td>\n",
              "      <td>0.320</td>\n",
              "      <td>0.29</td>\n",
              "      <td>4.0</td>\n",
              "      <td>0.038</td>\n",
              "      <td>33.0</td>\n",
              "      <td>170.0</td>\n",
              "      <td>0.99463</td>\n",
              "      <td>3.27</td>\n",
              "      <td>0.64</td>\n",
              "      <td>10.2</td>\n",
              "      <td>6</td>\n",
              "      <td>white</td>\n",
              "    </tr>\n",
              "    <tr>\n",
              "      <th>3</th>\n",
              "      <td>6.1</td>\n",
              "      <td>0.240</td>\n",
              "      <td>0.26</td>\n",
              "      <td>1.7</td>\n",
              "      <td>0.033</td>\n",
              "      <td>61.0</td>\n",
              "      <td>134.0</td>\n",
              "      <td>0.99030</td>\n",
              "      <td>3.19</td>\n",
              "      <td>0.81</td>\n",
              "      <td>11.9</td>\n",
              "      <td>7</td>\n",
              "      <td>white</td>\n",
              "    </tr>\n",
              "    <tr>\n",
              "      <th>4</th>\n",
              "      <td>7.5</td>\n",
              "      <td>0.190</td>\n",
              "      <td>0.49</td>\n",
              "      <td>1.6</td>\n",
              "      <td>0.047</td>\n",
              "      <td>42.0</td>\n",
              "      <td>140.0</td>\n",
              "      <td>0.99320</td>\n",
              "      <td>3.40</td>\n",
              "      <td>0.47</td>\n",
              "      <td>10.7</td>\n",
              "      <td>6</td>\n",
              "      <td>white</td>\n",
              "    </tr>\n",
              "    <tr>\n",
              "      <th>5</th>\n",
              "      <td>7.7</td>\n",
              "      <td>0.260</td>\n",
              "      <td>0.26</td>\n",
              "      <td>2.0</td>\n",
              "      <td>0.052</td>\n",
              "      <td>19.0</td>\n",
              "      <td>77.0</td>\n",
              "      <td>0.99510</td>\n",
              "      <td>3.15</td>\n",
              "      <td>0.79</td>\n",
              "      <td>10.9</td>\n",
              "      <td>6</td>\n",
              "      <td>red</td>\n",
              "    </tr>\n",
              "    <tr>\n",
              "      <th>6</th>\n",
              "      <td>6.2</td>\n",
              "      <td>0.280</td>\n",
              "      <td>0.51</td>\n",
              "      <td>7.9</td>\n",
              "      <td>0.056</td>\n",
              "      <td>49.0</td>\n",
              "      <td>206.0</td>\n",
              "      <td>0.99560</td>\n",
              "      <td>3.18</td>\n",
              "      <td>0.52</td>\n",
              "      <td>9.4</td>\n",
              "      <td>5</td>\n",
              "      <td>white</td>\n",
              "    </tr>\n",
              "    <tr>\n",
              "      <th>7</th>\n",
              "      <td>6.4</td>\n",
              "      <td>0.250</td>\n",
              "      <td>0.74</td>\n",
              "      <td>7.8</td>\n",
              "      <td>0.045</td>\n",
              "      <td>52.0</td>\n",
              "      <td>209.0</td>\n",
              "      <td>0.99560</td>\n",
              "      <td>3.21</td>\n",
              "      <td>0.42</td>\n",
              "      <td>9.2</td>\n",
              "      <td>6</td>\n",
              "      <td>white</td>\n",
              "    </tr>\n",
              "    <tr>\n",
              "      <th>8</th>\n",
              "      <td>9.9</td>\n",
              "      <td>0.740</td>\n",
              "      <td>0.28</td>\n",
              "      <td>2.6</td>\n",
              "      <td>0.078</td>\n",
              "      <td>21.0</td>\n",
              "      <td>77.0</td>\n",
              "      <td>0.99800</td>\n",
              "      <td>3.28</td>\n",
              "      <td>0.51</td>\n",
              "      <td>9.8</td>\n",
              "      <td>5</td>\n",
              "      <td>red</td>\n",
              "    </tr>\n",
              "    <tr>\n",
              "      <th>9</th>\n",
              "      <td>4.4</td>\n",
              "      <td>0.460</td>\n",
              "      <td>0.10</td>\n",
              "      <td>2.8</td>\n",
              "      <td>0.024</td>\n",
              "      <td>31.0</td>\n",
              "      <td>111.0</td>\n",
              "      <td>0.98816</td>\n",
              "      <td>3.48</td>\n",
              "      <td>0.34</td>\n",
              "      <td>13.1</td>\n",
              "      <td>6</td>\n",
              "      <td>white</td>\n",
              "    </tr>\n",
              "  </tbody>\n",
              "</table>\n",
              "</div>"
            ],
            "text/plain": [
              "   fixed acidity  volatile acidity  citric acid  ...  alcohol  quality  color\n",
              "0            6.7             0.540         0.28  ...      9.0        5  white\n",
              "1           15.5             0.645         0.49  ...     11.1        5    red\n",
              "2            7.1             0.320         0.29  ...     10.2        6  white\n",
              "3            6.1             0.240         0.26  ...     11.9        7  white\n",
              "4            7.5             0.190         0.49  ...     10.7        6  white\n",
              "5            7.7             0.260         0.26  ...     10.9        6    red\n",
              "6            6.2             0.280         0.51  ...      9.4        5  white\n",
              "7            6.4             0.250         0.74  ...      9.2        6  white\n",
              "8            9.9             0.740         0.28  ...      9.8        5    red\n",
              "9            4.4             0.460         0.10  ...     13.1        6  white\n",
              "\n",
              "[10 rows x 13 columns]"
            ]
          },
          "metadata": {},
          "execution_count": 7
        }
      ]
    },
    {
      "cell_type": "code",
      "metadata": {
        "colab": {
          "base_uri": "https://localhost:8080/",
          "height": 238
        },
        "id": "inyTYaaL8uU4",
        "outputId": "52185751-0f14-4334-fb5f-2e5c8936261a"
      },
      "source": [
        "df['color'] = df['color'].replace('red', 0)\n",
        "df['color'] = df['color'].replace('white', 1)\n",
        "df.head()"
      ],
      "execution_count": 8,
      "outputs": [
        {
          "output_type": "execute_result",
          "data": {
            "text/html": [
              "<div>\n",
              "<style scoped>\n",
              "    .dataframe tbody tr th:only-of-type {\n",
              "        vertical-align: middle;\n",
              "    }\n",
              "\n",
              "    .dataframe tbody tr th {\n",
              "        vertical-align: top;\n",
              "    }\n",
              "\n",
              "    .dataframe thead th {\n",
              "        text-align: right;\n",
              "    }\n",
              "</style>\n",
              "<table border=\"1\" class=\"dataframe\">\n",
              "  <thead>\n",
              "    <tr style=\"text-align: right;\">\n",
              "      <th></th>\n",
              "      <th>fixed acidity</th>\n",
              "      <th>volatile acidity</th>\n",
              "      <th>citric acid</th>\n",
              "      <th>residual sugar</th>\n",
              "      <th>chlorides</th>\n",
              "      <th>free sulfur dioxide</th>\n",
              "      <th>total sulfur dioxide</th>\n",
              "      <th>density</th>\n",
              "      <th>pH</th>\n",
              "      <th>sulphates</th>\n",
              "      <th>alcohol</th>\n",
              "      <th>quality</th>\n",
              "      <th>color</th>\n",
              "    </tr>\n",
              "  </thead>\n",
              "  <tbody>\n",
              "    <tr>\n",
              "      <th>0</th>\n",
              "      <td>6.7</td>\n",
              "      <td>0.540</td>\n",
              "      <td>0.28</td>\n",
              "      <td>5.4</td>\n",
              "      <td>0.060</td>\n",
              "      <td>21.0</td>\n",
              "      <td>105.0</td>\n",
              "      <td>0.99490</td>\n",
              "      <td>3.27</td>\n",
              "      <td>0.37</td>\n",
              "      <td>9.0</td>\n",
              "      <td>5</td>\n",
              "      <td>1</td>\n",
              "    </tr>\n",
              "    <tr>\n",
              "      <th>1</th>\n",
              "      <td>15.5</td>\n",
              "      <td>0.645</td>\n",
              "      <td>0.49</td>\n",
              "      <td>4.2</td>\n",
              "      <td>0.095</td>\n",
              "      <td>10.0</td>\n",
              "      <td>23.0</td>\n",
              "      <td>1.00315</td>\n",
              "      <td>2.92</td>\n",
              "      <td>0.74</td>\n",
              "      <td>11.1</td>\n",
              "      <td>5</td>\n",
              "      <td>0</td>\n",
              "    </tr>\n",
              "    <tr>\n",
              "      <th>2</th>\n",
              "      <td>7.1</td>\n",
              "      <td>0.320</td>\n",
              "      <td>0.29</td>\n",
              "      <td>4.0</td>\n",
              "      <td>0.038</td>\n",
              "      <td>33.0</td>\n",
              "      <td>170.0</td>\n",
              "      <td>0.99463</td>\n",
              "      <td>3.27</td>\n",
              "      <td>0.64</td>\n",
              "      <td>10.2</td>\n",
              "      <td>6</td>\n",
              "      <td>1</td>\n",
              "    </tr>\n",
              "    <tr>\n",
              "      <th>3</th>\n",
              "      <td>6.1</td>\n",
              "      <td>0.240</td>\n",
              "      <td>0.26</td>\n",
              "      <td>1.7</td>\n",
              "      <td>0.033</td>\n",
              "      <td>61.0</td>\n",
              "      <td>134.0</td>\n",
              "      <td>0.99030</td>\n",
              "      <td>3.19</td>\n",
              "      <td>0.81</td>\n",
              "      <td>11.9</td>\n",
              "      <td>7</td>\n",
              "      <td>1</td>\n",
              "    </tr>\n",
              "    <tr>\n",
              "      <th>4</th>\n",
              "      <td>7.5</td>\n",
              "      <td>0.190</td>\n",
              "      <td>0.49</td>\n",
              "      <td>1.6</td>\n",
              "      <td>0.047</td>\n",
              "      <td>42.0</td>\n",
              "      <td>140.0</td>\n",
              "      <td>0.99320</td>\n",
              "      <td>3.40</td>\n",
              "      <td>0.47</td>\n",
              "      <td>10.7</td>\n",
              "      <td>6</td>\n",
              "      <td>1</td>\n",
              "    </tr>\n",
              "  </tbody>\n",
              "</table>\n",
              "</div>"
            ],
            "text/plain": [
              "   fixed acidity  volatile acidity  citric acid  ...  alcohol  quality  color\n",
              "0            6.7             0.540         0.28  ...      9.0        5      1\n",
              "1           15.5             0.645         0.49  ...     11.1        5      0\n",
              "2            7.1             0.320         0.29  ...     10.2        6      1\n",
              "3            6.1             0.240         0.26  ...     11.9        7      1\n",
              "4            7.5             0.190         0.49  ...     10.7        6      1\n",
              "\n",
              "[5 rows x 13 columns]"
            ]
          },
          "metadata": {},
          "execution_count": 8
        }
      ]
    },
    {
      "cell_type": "code",
      "metadata": {
        "colab": {
          "base_uri": "https://localhost:8080/"
        },
        "id": "9H39Ls48P9bO",
        "outputId": "11e9c628-2ec2-4f36-f848-ce0634ad88c8"
      },
      "source": [
        "feature_df = df[df.columns.difference(['color'])]\n",
        "label_df = df['color']\n",
        "print(feature_df.shape, label_df.shape)"
      ],
      "execution_count": 9,
      "outputs": [
        {
          "output_type": "stream",
          "name": "stdout",
          "text": [
            "(6497, 12) (6497,)\n"
          ]
        }
      ]
    },
    {
      "cell_type": "code",
      "metadata": {
        "id": "rd7kK4soUvu9",
        "colab": {
          "base_uri": "https://localhost:8080/"
        },
        "outputId": "e666f4fc-d167-49f1-8a9b-685d8a059010"
      },
      "source": [
        "feature_np = feature_df.to_numpy()\n",
        "label_np = label_df.to_numpy()\n",
        "print(feature_np.shape, label_np.shape)"
      ],
      "execution_count": 10,
      "outputs": [
        {
          "output_type": "stream",
          "name": "stdout",
          "text": [
            "(6497, 12) (6497,)\n"
          ]
        }
      ]
    },
    {
      "cell_type": "code",
      "metadata": {
        "colab": {
          "base_uri": "https://localhost:8080/"
        },
        "id": "_I2-6DzSWVW2",
        "outputId": "2f96d282-300d-4532-8b10-49fcca55bb88"
      },
      "source": [
        "# train / test data 분리\n",
        "split = 0.15\n",
        "\n",
        "test_num = int(split*len(label_np))\n",
        "\n",
        "x_test = feature_np[0:test_num]\n",
        "y_test = label_np[0:test_num]\n",
        "\n",
        "x_train = feature_np[test_num:]\n",
        "y_train = label_np[test_num:]\n",
        "\n",
        "print(x_train.shape, y_train.shape)\n",
        "print(x_test.shape, y_test.shape)"
      ],
      "execution_count": 11,
      "outputs": [
        {
          "output_type": "stream",
          "name": "stdout",
          "text": [
            "(5523, 12) (5523,)\n",
            "(974, 12) (974,)\n"
          ]
        }
      ]
    },
    {
      "cell_type": "code",
      "metadata": {
        "id": "S7FPuNapWfmk",
        "colab": {
          "base_uri": "https://localhost:8080/"
        },
        "outputId": "a289a300-0708-4487-f466-bfc7519b1c98"
      },
      "source": [
        "import tensorflow as tf\n",
        "from tensorflow.keras.models import Sequential\n",
        "from tensorflow.keras.layers import Dense, Dropout\n",
        "\n",
        "model = Sequential()\n",
        "model.add(Dense(12, activation='relu', input_shape=(12, )))\n",
        "model.add(Dense(1, activation='sigmoid'))\n",
        "\n",
        "model.compile(optimizer=tf.keras.optimizers.Adam(),\n",
        "              loss='binary_crossentropy', metrics=['accuracy'])\n",
        "\n",
        "from datetime import datetime\n",
        "\n",
        "start_time = datetime.now()\n",
        "hist = model.fit(x_train, y_train, epochs=200, validation_data=(x_test, y_test))\n",
        "end_time = datetime.now()\n",
        "print('elapsed time => ', end_time-start_time)\n",
        "\n",
        "model.evaluate(x_test, y_test)"
      ],
      "execution_count": 12,
      "outputs": [
        {
          "output_type": "stream",
          "name": "stdout",
          "text": [
            "elapsed time =>  0:01:22.515119\n",
            "31/31 [==============================] - 0s 1ms/step - loss: 0.0509 - accuracy: 0.9887\n"
          ]
        },
        {
          "output_type": "execute_result",
          "data": {
            "text/plain": [
              "[0.05094584822654724, 0.9887063503265381]"
            ]
          },
          "metadata": {},
          "execution_count": 12
        }
      ]
    },
    {
      "cell_type": "code",
      "metadata": {
        "colab": {
          "base_uri": "https://localhost:8080/",
          "height": 295
        },
        "id": "FUwd441BWkQ2",
        "outputId": "591beb04-f123-4fd7-c3f2-928d501af11c"
      },
      "source": [
        "plt.title('loss trend')\n",
        "plt.xlabel('epochs')\n",
        "plt.ylabel('loss')\n",
        "plt.grid()\n",
        "\n",
        "plt.plot(hist.history['loss'], label='train loss')\n",
        "plt.plot(hist.history['val_loss'], label='validation loss')\n",
        "plt.legend(loc='best')\n",
        "\n",
        "plt.show()"
      ],
      "execution_count": 13,
      "outputs": [
        {
          "output_type": "display_data",
          "data": {
            "image/png": "[encoded data removed]",
            "text/plain": [
              "<Figure size 432x288 with 1 Axes>"
            ]
          },
          "metadata": {
            "needs_background": "light"
          }
        }
      ]
    },
    {
      "cell_type": "code",
      "metadata": {
        "colab": {
          "base_uri": "https://localhost:8080/",
          "height": 295
        },
        "id": "-ZMb8VNi9hoR",
        "outputId": "7f2c8e63-0a4f-4e5b-e901-57c098b36aa9"
      },
      "source": [
        "plt.plot(hist.history['accuracy'], label='train')\n",
        "plt.plot(hist.history['val_accuracy'], label='validation')\n",
        "plt.title('accuracy trend')\n",
        "plt.ylabel('accuracy')\n",
        "plt.xlabel('epoch')\n",
        "plt.legend(loc='best')\n",
        "plt.grid()\n",
        "plt.show()"
      ],
      "execution_count": 14,
      "outputs": [
        {
          "output_type": "display_data",
          "data": {
            "image/png": "[encoded data removed]",
            "text/plain": [
              "<Figure size 432x288 with 1 Axes>"
            ]
          },
          "metadata": {
            "needs_background": "light"
          }
        }
      ]
    }
  ]
}